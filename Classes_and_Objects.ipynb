{
  "nbformat": 4,
  "nbformat_minor": 0,
  "metadata": {
    "colab": {
      "provenance": [],
      "authorship_tag": "ABX9TyO5hWQkV79C2std1AGTV71A",
      "include_colab_link": true
    },
    "kernelspec": {
      "name": "python3",
      "display_name": "Python 3"
    },
    "language_info": {
      "name": "python"
    }
  },
  "cells": [
    {
      "cell_type": "markdown",
      "metadata": {
        "id": "view-in-github",
        "colab_type": "text"
      },
      "source": [
        "<a href=\"https://colab.research.google.com/github/lynethcutamora/DEFoundations/blob/master/Classes_and_Objects.ipynb\" target=\"_parent\"><img src=\"https://colab.research.google.com/assets/colab-badge.svg\" alt=\"Open In Colab\"/></a>"
      ]
    },
    {
      "cell_type": "code",
      "execution_count": 8,
      "metadata": {
        "id": "IhVKByDm0-_G"
      },
      "outputs": [],
      "source": [
        "class Employee:\n",
        "  def __init__(self, name, position, salary):\n",
        "    self.name = name\n",
        "    self.position = position\n",
        "    self.salary = salary\n",
        "\n",
        "  def display_info(self):\n",
        "    return f\"{self.name} is a {self.position} earning ${self.salary} annually.\""
      ]
    },
    {
      "cell_type": "code",
      "source": [
        "employee1 = Employee(\"John Doe\", \"Manager\", 50000)\n",
        "employee2 = Employee(\"Jane Doe\", \"Data Engineer\", 10000)\n",
        "print(employee1.display_info())\n",
        "print(employee2.display_info())"
      ],
      "metadata": {
        "colab": {
          "base_uri": "https://localhost:8080/"
        },
        "id": "2mcZBxDK3_l_",
        "outputId": "11bba55a-8725-4285-c8ef-5cabec10ed4c"
      },
      "execution_count": 10,
      "outputs": [
        {
          "output_type": "stream",
          "name": "stdout",
          "text": [
            "John Doe is a Manager earning $50000 annually.\n",
            "Jane Doe is a Data Engineer earning $10000 annually.\n"
          ]
        }
      ]
    },
    {
      "cell_type": "code",
      "source": [
        "# exercise\n",
        "\n",
        "# Python code​​​​​​‌‌​‌‌‌‌‌​​‌​​‌​​​​‌‌‌‌‌​​ below\n",
        "# Use print(\"messages...\") to debug your solution.\n",
        "show_expected_result = False\n",
        "show_hints = False\n",
        "class BankAccount:\n",
        "    def __init__(self, account_id, balance=1000):\n",
        "        self.account_id = account_id\n",
        "        self.balance = balance\n",
        "\n",
        "    def deposit(self, amount):\n",
        "        if amount > 0:\n",
        "            self.balance += amount\n",
        "        else:\n",
        "            print(\"Invalid deposit amount\")\n",
        "\n",
        "    def get_balance(self):\n",
        "        return self.balance\n",
        "\n",
        "def display_balance(amount):\n",
        "    # Your code goes here.\n",
        "    newaccnt = BankAccount(\"1001\")\n",
        "    newaccnt.deposit(amount)\n",
        "    return newaccnt.get_balance()\n"
      ],
      "metadata": {
        "id": "AXAHy6gg9aDT"
      },
      "execution_count": 12,
      "outputs": []
    }
  ]
}