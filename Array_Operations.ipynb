{
  "nbformat": 4,
  "nbformat_minor": 0,
  "metadata": {
    "colab": {
      "provenance": [],
      "authorship_tag": "ABX9TyOrqj7I3cbLTzg+bNc5umM+",
      "include_colab_link": true
    },
    "kernelspec": {
      "name": "python3",
      "display_name": "Python 3"
    },
    "language_info": {
      "name": "python"
    }
  },
  "cells": [
    {
      "cell_type": "markdown",
      "metadata": {
        "id": "view-in-github",
        "colab_type": "text"
      },
      "source": [
        "<a href=\"https://colab.research.google.com/github/lynethcutamora/DEFoundations/blob/master/Array_Operations.ipynb\" target=\"_parent\"><img src=\"https://colab.research.google.com/assets/colab-badge.svg\" alt=\"Open In Colab\"/></a>"
      ]
    },
    {
      "cell_type": "code",
      "execution_count": 1,
      "metadata": {
        "colab": {
          "base_uri": "https://localhost:8080/"
        },
        "id": "ZhfsFiWw9g6f",
        "outputId": "f6e3fcc8-2c34-4326-9920-ff20ee390148"
      },
      "outputs": [
        {
          "output_type": "stream",
          "name": "stdout",
          "text": [
            "[ 7  9 11 13 15]\n"
          ]
        }
      ],
      "source": [
        "import numpy as np\n",
        "\n",
        "array1=np.array([1,2,3,4,5])\n",
        "array2=np.array([6,7,8,9,10])\n",
        "\n",
        "#sum 2 arrays\n",
        "sum = array1+array2\n",
        "print(sum)"
      ]
    },
    {
      "cell_type": "code",
      "source": [
        "subtract = array1-array2\n",
        "print(subtract)"
      ],
      "metadata": {
        "colab": {
          "base_uri": "https://localhost:8080/"
        },
        "id": "ZIBHpJjz-fNk",
        "outputId": "2deb9d93-0980-4a5e-d37c-5a0d80c26cef"
      },
      "execution_count": 2,
      "outputs": [
        {
          "output_type": "stream",
          "name": "stdout",
          "text": [
            "[-5 -5 -5 -5 -5]\n"
          ]
        }
      ]
    },
    {
      "cell_type": "code",
      "source": [
        "multiply=array1*array2\n",
        "print(multiply)"
      ],
      "metadata": {
        "colab": {
          "base_uri": "https://localhost:8080/"
        },
        "id": "pQzSBS0J-nH0",
        "outputId": "0cd4475c-678e-4425-ff62-b7fdb53a7920"
      },
      "execution_count": 3,
      "outputs": [
        {
          "output_type": "stream",
          "name": "stdout",
          "text": [
            "[ 6 14 24 36 50]\n"
          ]
        }
      ]
    },
    {
      "cell_type": "code",
      "source": [
        "div=array1/array2\n",
        "print(div)"
      ],
      "metadata": {
        "colab": {
          "base_uri": "https://localhost:8080/"
        },
        "id": "SfwtT3Px-u9o",
        "outputId": "8fd44e0e-cd1e-444c-a8cc-f64069b083fe"
      },
      "execution_count": 4,
      "outputs": [
        {
          "output_type": "stream",
          "name": "stdout",
          "text": [
            "[0.16666667 0.28571429 0.375      0.44444444 0.5       ]\n"
          ]
        }
      ]
    },
    {
      "cell_type": "code",
      "source": [
        "mean=np.mean(array1)\n",
        "print(mean)\n",
        "\n",
        "mean2=np.mean(array2)\n",
        "print(mean2)"
      ],
      "metadata": {
        "colab": {
          "base_uri": "https://localhost:8080/"
        },
        "id": "J1Sd2rFe-z7o",
        "outputId": "45ac20c5-b3ac-43af-993e-8046d2816a5a"
      },
      "execution_count": 6,
      "outputs": [
        {
          "output_type": "stream",
          "name": "stdout",
          "text": [
            "3.0\n",
            "8.0\n"
          ]
        }
      ]
    },
    {
      "cell_type": "code",
      "source": [
        "sum=np.sum(array1)\n",
        "print(sum)\n",
        "\n",
        "sum2=np.sum(array2)\n",
        "print(sum2)"
      ],
      "metadata": {
        "colab": {
          "base_uri": "https://localhost:8080/"
        },
        "id": "PWL7VzR--_MX",
        "outputId": "a1b31f39-7f1d-48f0-fc83-ba9adf575127"
      },
      "execution_count": 7,
      "outputs": [
        {
          "output_type": "stream",
          "name": "stdout",
          "text": [
            "15\n",
            "40\n"
          ]
        }
      ]
    },
    {
      "cell_type": "code",
      "source": [
        "max=np.max(array1)\n",
        "max2=np.max(array2)\n",
        "print(\"max array1: \",max,\"\\nmax array2: \",max2)\n",
        "\n",
        "min=np.min(array1)\n",
        "min2=np.min(array2)\n",
        "print(\"min array1: \",min,\"\\nmin array2: \",min2)"
      ],
      "metadata": {
        "colab": {
          "base_uri": "https://localhost:8080/"
        },
        "id": "WOJY09G7_Sbb",
        "outputId": "b760894d-f6d4-47db-be0d-b9df68363dc6"
      },
      "execution_count": 11,
      "outputs": [
        {
          "output_type": "stream",
          "name": "stdout",
          "text": [
            "max array1:  5 \n",
            "max array2:  10\n",
            "min array1:  1 \n",
            "min array2:  6\n"
          ]
        }
      ]
    },
    {
      "cell_type": "code",
      "source": [
        "greater_than = array1>2\n",
        "print(\"greater than: \",greater_than)\n",
        "\n",
        "less_than = array1<2\n",
        "print(\"less than: \",less_than)"
      ],
      "metadata": {
        "colab": {
          "base_uri": "https://localhost:8080/"
        },
        "id": "5yx4gygd_7DZ",
        "outputId": "062bf614-c3c3-4dda-c40a-ff1cd9ae71a6"
      },
      "execution_count": 14,
      "outputs": [
        {
          "output_type": "stream",
          "name": "stdout",
          "text": [
            "greater than:  [False False  True  True  True]\n",
            "less than:  [ True False False False False]\n"
          ]
        }
      ]
    },
    {
      "cell_type": "code",
      "source": [
        "#adding num to all values in the array\n",
        "result=array1+5\n",
        "print(result)"
      ],
      "metadata": {
        "colab": {
          "base_uri": "https://localhost:8080/"
        },
        "id": "wyda8Ly6ATy9",
        "outputId": "7a57c54a-7d09-4fa3-a104-f73e46204722"
      },
      "execution_count": 19,
      "outputs": [
        {
          "output_type": "stream",
          "name": "stdout",
          "text": [
            "[ 6  7  8  9 10]\n"
          ]
        }
      ]
    }
  ]
}