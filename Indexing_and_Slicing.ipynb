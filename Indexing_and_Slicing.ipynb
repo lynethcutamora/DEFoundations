{
  "nbformat": 4,
  "nbformat_minor": 0,
  "metadata": {
    "colab": {
      "provenance": [],
      "authorship_tag": "ABX9TyPxfw+ZBjYUol2/Jmx05kGf",
      "include_colab_link": true
    },
    "kernelspec": {
      "name": "python3",
      "display_name": "Python 3"
    },
    "language_info": {
      "name": "python"
    }
  },
  "cells": [
    {
      "cell_type": "markdown",
      "metadata": {
        "id": "view-in-github",
        "colab_type": "text"
      },
      "source": [
        "<a href=\"https://colab.research.google.com/github/lynethcutamora/DEFoundations/blob/master/Indexing_and_Slicing.ipynb\" target=\"_parent\"><img src=\"https://colab.research.google.com/assets/colab-badge.svg\" alt=\"Open In Colab\"/></a>"
      ]
    },
    {
      "cell_type": "code",
      "execution_count": 1,
      "metadata": {
        "colab": {
          "base_uri": "https://localhost:8080/"
        },
        "id": "jqrcYK2-D1SL",
        "outputId": "3b630378-62c2-4817-cfc7-65f63c039d78"
      },
      "outputs": [
        {
          "output_type": "stream",
          "name": "stdout",
          "text": [
            "20\n"
          ]
        }
      ],
      "source": [
        "import numpy as np\n",
        "\n",
        "array1=np.array([10,20,30,40,50])\n",
        "\n",
        "secondelement=array1[1]\n",
        "\n",
        "print(secondelement)"
      ]
    },
    {
      "cell_type": "code",
      "source": [
        "#from the last\n",
        "print(array1[-2])"
      ],
      "metadata": {
        "colab": {
          "base_uri": "https://localhost:8080/"
        },
        "id": "IUBOREt-EJN9",
        "outputId": "42de3a09-3f00-4aa4-cace-1ebcd2d5c357"
      },
      "execution_count": 2,
      "outputs": [
        {
          "output_type": "stream",
          "name": "stdout",
          "text": [
            "40\n"
          ]
        }
      ]
    },
    {
      "cell_type": "code",
      "source": [
        "#sliced array\n",
        "#from index upto next position (not index)\n",
        "\n",
        "sliced_arr=array1[1:4]\n",
        "print(sliced_arr)"
      ],
      "metadata": {
        "colab": {
          "base_uri": "https://localhost:8080/"
        },
        "id": "92w1n61JEWMp",
        "outputId": "2fdc20d0-11f7-4341-cb01-62758db6c020"
      },
      "execution_count": 7,
      "outputs": [
        {
          "output_type": "stream",
          "name": "stdout",
          "text": [
            "[20 30 40]\n"
          ]
        }
      ]
    },
    {
      "cell_type": "code",
      "source": [
        "#from the first element, every 2nd element\n",
        "step_array=array1[::2]\n",
        "print(step_array)"
      ],
      "metadata": {
        "colab": {
          "base_uri": "https://localhost:8080/"
        },
        "id": "RZzpGB8vFCJa",
        "outputId": "7509c797-ba42-4339-c695-5d51e337b2a9"
      },
      "execution_count": 8,
      "outputs": [
        {
          "output_type": "stream",
          "name": "stdout",
          "text": [
            "[10 30 50]\n"
          ]
        }
      ]
    },
    {
      "cell_type": "code",
      "source": [
        "matrix=np.array([[1,2,3],\n",
        "                 [4,5,6],\n",
        "                 [7,8,9]])\n",
        "\n",
        "#row index and col index\n",
        "element=matrix[1,1]\n",
        "print(element)"
      ],
      "metadata": {
        "colab": {
          "base_uri": "https://localhost:8080/"
        },
        "id": "5ggFH85TFf80",
        "outputId": "a9d701fd-09f2-48ac-bec6-8fac61931f36"
      },
      "execution_count": 16,
      "outputs": [
        {
          "output_type": "stream",
          "name": "stdout",
          "text": [
            "5\n"
          ]
        }
      ]
    },
    {
      "cell_type": "code",
      "source": [
        "#get specific row from matrix\n",
        "\n",
        "#: means needs the entire row\n",
        "#from row index\n",
        "second_row=matrix[1,:]\n",
        "print(second_row)"
      ],
      "metadata": {
        "colab": {
          "base_uri": "https://localhost:8080/"
        },
        "id": "PqAqEYqgGAbQ",
        "outputId": "a55b18de-d854-4040-a316-94541042cac6"
      },
      "execution_count": 17,
      "outputs": [
        {
          "output_type": "stream",
          "name": "stdout",
          "text": [
            "[4 5 6]\n"
          ]
        }
      ]
    },
    {
      "cell_type": "code",
      "source": [
        "#get specific col from matrix\n",
        "\n",
        "#[<row>,<col>] - : means entire row/col\n",
        "second_col=matrix[:,1]\n",
        "print(second_col)"
      ],
      "metadata": {
        "colab": {
          "base_uri": "https://localhost:8080/"
        },
        "id": "yKyo8CBXGWgN",
        "outputId": "119e0124-44f9-4441-911c-f921f5b1a38d"
      },
      "execution_count": 18,
      "outputs": [
        {
          "output_type": "stream",
          "name": "stdout",
          "text": [
            "[2 5 8]\n"
          ]
        }
      ]
    },
    {
      "cell_type": "code",
      "source": [
        "#data management\n",
        "#missing values (Nan)\n",
        "\n",
        "data=np.array([1,2,3,np.nan,4,5])\n",
        "\n",
        "#check missing data\n",
        "missing = np.isnan(data)\n",
        "print(missing)"
      ],
      "metadata": {
        "colab": {
          "base_uri": "https://localhost:8080/"
        },
        "id": "HPKbf-SzGvl-",
        "outputId": "7364925f-47ba-4d22-8fc1-bdb3252915b8"
      },
      "execution_count": 20,
      "outputs": [
        {
          "output_type": "stream",
          "name": "stdout",
          "text": [
            "[False False False  True False False]\n"
          ]
        }
      ]
    },
    {
      "cell_type": "code",
      "source": [
        "#fill missing number\n",
        "\n",
        "data_fill=np.nan_to_num(data, nan=100)\n",
        "print(data_fill)"
      ],
      "metadata": {
        "colab": {
          "base_uri": "https://localhost:8080/"
        },
        "id": "cTxoBzfmHQYv",
        "outputId": "118d12e8-9df5-43d8-81ff-30af7ed1cb90"
      },
      "execution_count": 21,
      "outputs": [
        {
          "output_type": "stream",
          "name": "stdout",
          "text": [
            "[  1.   2.   3. 100.   4.   5.]\n"
          ]
        }
      ]
    }
  ]
}